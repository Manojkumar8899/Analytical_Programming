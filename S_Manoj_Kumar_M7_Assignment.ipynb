{
 "cells": [
  {
   "cell_type": "markdown",
   "id": "266d4723",
   "metadata": {},
   "source": [
    "1)Using regular expressions, extract the Capacity and Attendance counts for each concert from the unformatted text string shown above and store them in two separate Python list objects, i.e., one list containing the Capacity values as integers and one list containing the Attendance values as floats.\n",
    "\n",
    "2)Using regular expressions, extract the names of each musical artist from the unformatted text string and store them in a Python list object. When complete, your list should contain the following entries:\n",
    "[\"Black Stone Cherry\", \"Lady Gaga\", \"Paramore\", \"Rage Against the Machine\", \"BEYONCE\"]\n",
    "\n",
    "3)Using regular expressions, extract the Gross ticket revenue for each concert from the unformatted text string shown above and store the dollar amounts in a list of floats.\n",
    "\n",
    "4)Create a new nested dictionary mapping the artist to the following:\n",
    "1.the average ticket price for each concert based on the number of concert attendees and the gross ticket revenue. Be sure to also format this as a dollar amount (e.g., $10.15 instead of 10.1520039302).\n",
    "2.a Boolean indicating whether or not the artist’s name is comprised of more than just a single word\n",
    "3.how full the venue was (i.e., how much of the available capacity was filled according to the attendance). Express this value as a percentage with 2 digits of precision (e.g., 92.07%)."
   ]
  },
  {
   "cell_type": "code",
   "execution_count": 38,
   "id": "af80cce9",
   "metadata": {
    "scrolled": true
   },
   "outputs": [
    {
     "name": "stdout",
     "output_type": "stream",
     "text": [
      "Artists: ['Black Stone Cherry', 'Lady Gaga', 'Paramore', 'Rage Against the Machine', 'BEYONCE']\n",
      "Capacities: [1500, 25, 3000, 12000]\n",
      "Attendances: [1315.0, 24368.0, 3000.0, 10782.0, 20000.0]\n",
      "Artists: ['Black Stone Cherry', 'Lady Gaga', 'Paramore', 'Rage Against the Machine', 'BEYONCE']\n",
      "Revenues: [2400000.0]\n",
      "artist info:\n",
      "Black Stone Cherry : {'Average Ticket Price': '$1825.10', 'Has Multiple Words': True, 'Venue Fill Percentage': '87.67%'}\n"
     ]
    }
   ],
   "source": [
    "import re\n",
    "from statistics import mean\n",
    "\n",
    "class Event_Processor:\n",
    "    def __init__(self, text_data):\n",
    "        self.text_data = text_data\n",
    "\n",
    "        # The extract_capacity_attend method makes use of regular expressions to take the provided text data and \n",
    "        #extract the capacity and attendance figures. Then, it generates lists of floats for attendances\n",
    "        #and lists of integers for capacities,trimming any commas from attendance figures to ensure appropriate parsing.\"\"\"\n",
    "        \n",
    "    def extract_capacity_attend(self):\n",
    "      \n",
    "        capacity_pattern = r\"CAPACITY---:(\\d+)\"\n",
    "        attendance_pattern = r\"ATTENDANCE:(\\s*[\\d,]+)\"\n",
    "        \n",
    "        capacities = [int(match.group(1)) for match in re.finditer(capacity_pattern, self.text_data)]\n",
    "        attendances = [float(match.group(1).replace(',', '')) for match in re.finditer(attendance_pattern, self.text_data)]\n",
    "        \n",
    "        return capacities, attendances\n",
    "  \n",
    "    \n",
    "   #In extract_musical_artist, it removes out any surrounding gaps before extracting artist names using a regular expression.\n",
    "   #From the supplied text data, a list of artist names is returned.\n",
    "    \n",
    "    def extract_musical_artist(self):\n",
    "       \n",
    "        artist_pattern = r\"\\*{5}(.*?)---\"\n",
    "        artists = [match.group(1).strip() for match in re.finditer(artist_pattern, self.text_data)]\n",
    "        return artists\n",
    "    print(\"Artists:\", artists)\n",
    "    \n",
    "    \n",
    "    \n",
    "\n",
    "    def extract_gross_ticket_aven(self):\n",
    "        \n",
    "        \"\"\"In extract_gross_ticket_aven, a regular expression is used to extract the gross ticket revenue values from the text input.\n",
    "        These revenue values are then parsed and kept as floats in a list.\"\"\"\n",
    "        \n",
    "        revenue_pattern = r\"GATE:(\\s*\\$[\\d,]+)\"\n",
    "        revenues = [float(match.group(1).replace('$', '').replace(',', '')) for match in re.finditer(revenue_pattern, self.text_data)]\n",
    "        return revenues\n",
    "    \n",
    "    \n",
    "    \n",
    "\n",
    "    def task_four(self):\n",
    "        \n",
    "        \"\"\"In task_four, a nested dictionary is built that maps artists to their average ticket price, whether their names contain multiple words, and the proportion of venues that are filled,\n",
    "        all based on concert data that has been provided.\"\"\"\n",
    "        \n",
    "        capacities, attendances = self.extract_capacity_attend()\n",
    "        artists = self.extract_musical_artist()\n",
    "        revenues = self.extract_gross_ticket_aven()\n",
    "        \n",
    "        artist_info = {}\n",
    "        for artist, capacity, attendance, revenue in zip(artists, capacities, attendances, revenues):\n",
    "            avg_ticket_price = revenue / attendance\n",
    "            artist_info[artist] = {\n",
    "                'Average Ticket Price': f'${avg_ticket_price:.2f}',\n",
    "                'Has Multiple Words': ' ' in artist,\n",
    "                'Venue Fill Percentage': f'{(attendance / capacity * 100):.2f}%'\n",
    "            }\n",
    "        \n",
    "        return artist_info\n",
    "    \n",
    "    \n",
    "    \n",
    "    # Sample text data\n",
    "text_data = \"\"\"\n",
    "JUNE:*****Black Stone Cherry---CAPACITY---:1500 -- $ATTENDANCE: 1,315--GATE:--$28,492 ;\n",
    "*****Lady Gaga ----CAPACITY---:25,000--- $ATTENDANCE: 24,368---GATE:--$461,956#;\n",
    "*****Paramore ----CAPACITY---:3000 ---$ATTENDANCE: 3,000 ---GATE:-$150,000;\n",
    "*****Rage Against the Machine---CAPACITY---:12000 ---$ATTENDANCE: 10,782 ---GATE: --$724,087;\n",
    "*****BEYONCE---CAPACITY--:20000---$ATTENDANCE: 20,000—-GATE:$2,400,000*****\n",
    "\"\"\"\n",
    "\n",
    "\n",
    "\n",
    "# Create an instance of the Event_Processor\n",
    "processor = Event_Processor(text_data)\n",
    "\n",
    "# Perform the tasks\n",
    "capacities, attendances = processor.extract_capacity_attend()\n",
    "artists = processor.extract_musical_artist()\n",
    "revenues = processor.extract_gross_ticket_aven()\n",
    "artist_info = processor.task_four()\n",
    "\n",
    "# Print the results\n",
    "print(\"Capacities:\", capacities)\n",
    "print(\"Attendances:\", attendances)\n",
    "print(\"Artists:\", artists)\n",
    "print(\"Revenues:\", revenues)\n",
    "print(\"artist info:\")\n",
    "for artist, info in artist_info.items():\n",
    "    print(artist, \":\", info)\n",
    "\n"
   ]
  },
  {
   "cell_type": "markdown",
   "id": "4fbb9455",
   "metadata": {},
   "source": [
    "5)Consider the character string “The spy was carefully disguised”. We would like to extract only the adverb ‘carefully’ from the string. To do so we write the regular expression “$*\\s+ly\\w+”. Explain why this fails and correct the expression.\n",
    "\n",
    "\n",
    "\n",
    "Explanation:\n",
    "The string \"FIdD1E7h=\" cannot be matched by the regular expression \"D[a-zA-Z]*[,]=\" for the following reasons:\n",
    "\n",
    "A single non-digit character is matched by \"D.\" 'F' is a non-digit character in 'FIdD1E7h=', but the expression calls for it to be immediately followed by 0 or more alphabet characters ([a-zA-Z]*), which is not the case."
   ]
  },
  {
   "cell_type": "code",
   "execution_count": 34,
   "id": "631db957",
   "metadata": {},
   "outputs": [
    {
     "name": "stdout",
     "output_type": "stream",
     "text": [
      "No match found\n"
     ]
    }
   ],
   "source": [
    "text = 'FIdD1E7h='\n",
    "pattern = r'\\D[a-zA-Z]*[^,]='\n",
    "match = re.search(pattern, text)\n",
    "if match:\n",
    "    print(match.group())\n",
    "else:\n",
    "    print(\"No match found\")\n"
   ]
  },
  {
   "cell_type": "markdown",
   "id": "42d04952",
   "metadata": {},
   "source": [
    "6)Consider the character string “The spy was carefully disguised”. We would like to extract only the adverb ‘carefully’ from the string. To do so we write the regular expression “$*\\s+ly\\w+”. Explain why this fails and correct the expression.\n",
    "\n",
    "\n",
    "Explanation:\n",
    "The word \"carefully\" cannot be extracted from the string \"The spy was carefully disguised\" by the regular phrase \"$*s+lyw+\" for the following reasons:\n",
    "\n",
    "\"$*\" corresponds to 0 or more dollar signs that are not in the input.\n",
    "One or more whitespace characters are matched by \"s+\".\n",
    "\"ly\" anticipates the letter 'ly' to come after the whitespace.\n",
    "It is not required to extract \"carefully\" when \"w+\" matches one or more word characters.\n"
   ]
  },
  {
   "cell_type": "code",
   "execution_count": 29,
   "id": "d6b26aee",
   "metadata": {},
   "outputs": [
    {
     "name": "stdout",
     "output_type": "stream",
     "text": [
      "carefully\n"
     ]
    }
   ],
   "source": [
    "text = \"The spy was carefully disguised\"\n",
    "pattern = r'\\w+ly\\b'\n",
    "matches = re.findall(pattern, text)\n",
    "if matches:\n",
    "    print(matches[0])"
   ]
  }
 ],
 "metadata": {
  "kernelspec": {
   "display_name": "Python 3 (ipykernel)",
   "language": "python",
   "name": "python3"
  },
  "language_info": {
   "codemirror_mode": {
    "name": "ipython",
    "version": 3
   },
   "file_extension": ".py",
   "mimetype": "text/x-python",
   "name": "python",
   "nbconvert_exporter": "python",
   "pygments_lexer": "ipython3",
   "version": "3.11.4"
  }
 },
 "nbformat": 4,
 "nbformat_minor": 5
}
